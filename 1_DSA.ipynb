{
  "nbformat": 4,
  "nbformat_minor": 0,
  "metadata": {
    "colab": {
      "name": "1 - DSA",
      "provenance": [],
      "authorship_tag": "ABX9TyOLgdo4IdVt1ukXiOq7Yxdo",
      "include_colab_link": true
    },
    "kernelspec": {
      "name": "python3",
      "display_name": "Python 3"
    },
    "language_info": {
      "name": "python"
    }
  },
  "cells": [
    {
      "cell_type": "markdown",
      "metadata": {
        "id": "view-in-github",
        "colab_type": "text"
      },
      "source": [
        "<a href=\"https://colab.research.google.com/github/swarnava-96/Data-Structures-Algorithms/blob/main/1_DSA.ipynb\" target=\"_parent\"><img src=\"https://colab.research.google.com/assets/colab-badge.svg\" alt=\"Open In Colab\"/></a>"
      ]
    },
    {
      "cell_type": "markdown",
      "metadata": {
        "id": "GbIb0RmC0OcJ"
      },
      "source": [
        "Q1. Let us say your expense for every month are listed below,\n",
        "1. January - 2200\n",
        "2. February - 2350\n",
        "3. March - 2600\n",
        "4. April - 2130\n",
        "5. May - 2190\n",
        "\n",
        "Create a list to store these monthly expenses and using that find out,\n",
        "\n",
        "1. In Feb, how many dollars you spent extra compare to January?\n",
        "2. Find out your total expense in first quarter (first three months) of the year.\n",
        "3. Find out if you spent exactly 2000 dollars in any month\n",
        "4. June month just finished and your expense is 1980 dollar. Add this item to our monthly expense list\n",
        "5. You returned an item that you bought in a month of April and\n",
        "got a refund of 200$. Make a correction to your monthly expense list\n",
        "based on this"
      ]
    },
    {
      "cell_type": "code",
      "metadata": {
        "id": "hIGw15ju0r6O"
      },
      "source": [
        "# Expenses\n",
        "expenses = [2200,2350,2600,2130,2190]"
      ],
      "execution_count": 1,
      "outputs": []
    },
    {
      "cell_type": "code",
      "metadata": {
        "colab": {
          "base_uri": "https://localhost:8080/"
        },
        "id": "yZxUnE3f08wu",
        "outputId": "c88564d9-5b75-4f60-9c85-266f788be737"
      },
      "source": [
        "# In Feb, how many dollars you spent extra compare to January?\n",
        "print(\"In Feb {} extra was spent compared to Jan\".format(expenses[1] - expenses[0]))"
      ],
      "execution_count": 4,
      "outputs": [
        {
          "output_type": "stream",
          "name": "stdout",
          "text": [
            "In Feb 150 extra was spent compared to Jan\n"
          ]
        }
      ]
    },
    {
      "cell_type": "code",
      "metadata": {
        "colab": {
          "base_uri": "https://localhost:8080/"
        },
        "id": "nKNXCW_81j5d",
        "outputId": "ed678c4b-2a9c-439d-d77d-9e01206007a9"
      },
      "source": [
        "# Find out your total expense in first quarter (first three months) of the year.\n",
        "print(\"Expense for the first quarter is {}\".format(expenses[0] + expenses[1] + expenses[2]))"
      ],
      "execution_count": 6,
      "outputs": [
        {
          "output_type": "stream",
          "name": "stdout",
          "text": [
            "Expense for the first quarter is 7150\n"
          ]
        }
      ]
    },
    {
      "cell_type": "code",
      "metadata": {
        "colab": {
          "base_uri": "https://localhost:8080/"
        },
        "id": "YIOQu9SW2CdA",
        "outputId": "2952118a-d298-4165-a3da-a4f9f4b8fee7"
      },
      "source": [
        "# Find out if you spent exactly 2000 dollars in any month\n",
        "print(\"Did I spend $2000 in any month?\",2000 in expenses)"
      ],
      "execution_count": 7,
      "outputs": [
        {
          "output_type": "stream",
          "name": "stdout",
          "text": [
            "Did I spend $2000 in any month? False\n"
          ]
        }
      ]
    },
    {
      "cell_type": "code",
      "metadata": {
        "colab": {
          "base_uri": "https://localhost:8080/"
        },
        "id": "Mdfz7tTa2e22",
        "outputId": "5df0456c-6fc6-40bd-9b3c-138ae12eabfd"
      },
      "source": [
        "# June month just finished and your expense is 1980 dollar. Add this item to our monthly expense list\n",
        "expenses.append(1980)\n",
        "print(\"Expenses at the end of June is \",expenses)"
      ],
      "execution_count": 9,
      "outputs": [
        {
          "output_type": "stream",
          "name": "stdout",
          "text": [
            "Expenses at the end of June is  [2200, 2350, 2600, 2130, 2190, 1980, 1980]\n"
          ]
        }
      ]
    },
    {
      "cell_type": "code",
      "metadata": {
        "colab": {
          "base_uri": "https://localhost:8080/"
        },
        "id": "eDHsAcJA26tj",
        "outputId": "eee429ce-2d07-4ece-f3ff-7f23b623bbe5"
      },
      "source": [
        "# You returned an item that you bought in a month of April and got a refund of 200$. Make a correction to your monthly expense list based on this\n",
        "expenses[3] = expenses[3] - 200\n",
        "print(\"My updated expenses are\",expenses) "
      ],
      "execution_count": 10,
      "outputs": [
        {
          "output_type": "stream",
          "name": "stdout",
          "text": [
            "My updated expenses are [2200, 2350, 2600, 1930, 2190, 1980, 1980]\n"
          ]
        }
      ]
    },
    {
      "cell_type": "markdown",
      "metadata": {
        "id": "AEi7TA9a38W0"
      },
      "source": [
        "Q2. You have a list of your favourite marvel super heros.\n",
        "heros=['spider man','thor','hulk','iron man','captain america']\n",
        "Using this find out,\n",
        "\n",
        "1. Length of the list\n",
        "2. Add 'black panther' at the end of this list\n",
        "3. You realize that you need to add 'black panther' after 'hulk',\n",
        "   so remove it from the list first and then add it after 'hulk'\n",
        "4. Now you don't like thor and hulk because they get angry easily :)\n",
        "   So you want to remove thor and hulk from list and replace them with doctor strange (because he is cool).\n",
        "   Do that with one line of code.\n",
        "5. Sort the heros list in alphabetical order (Hint. Use dir() functions to list down all functions available in list)"
      ]
    },
    {
      "cell_type": "code",
      "metadata": {
        "id": "7ylS0jI43beZ"
      },
      "source": [
        "# Creating the list\n",
        "heros = ['spider man','thor','hulk','iron man','captain america']"
      ],
      "execution_count": 11,
      "outputs": []
    },
    {
      "cell_type": "code",
      "metadata": {
        "colab": {
          "base_uri": "https://localhost:8080/"
        },
        "id": "XL6B__qT4L_v",
        "outputId": "fd133774-9b37-43af-adb2-21e97c82bf97"
      },
      "source": [
        "# Length of the list\n",
        "print(len(heros))"
      ],
      "execution_count": 12,
      "outputs": [
        {
          "output_type": "stream",
          "name": "stdout",
          "text": [
            "5\n"
          ]
        }
      ]
    },
    {
      "cell_type": "code",
      "metadata": {
        "colab": {
          "base_uri": "https://localhost:8080/"
        },
        "id": "yVqfKu4e4UxK",
        "outputId": "53b3a1f7-f3dc-47b3-9de2-8c3029690fa3"
      },
      "source": [
        "# Add 'black panther' at the end of this list\n",
        "heros.append(\"black panther\")\n",
        "print(heros)"
      ],
      "execution_count": 13,
      "outputs": [
        {
          "output_type": "stream",
          "name": "stdout",
          "text": [
            "['spider man', 'thor', 'hulk', 'iron man', 'captain america', 'black panther']\n"
          ]
        }
      ]
    },
    {
      "cell_type": "code",
      "metadata": {
        "colab": {
          "base_uri": "https://localhost:8080/"
        },
        "id": "6GRifPYz4exR",
        "outputId": "c55d7071-ce2d-4a8a-afe5-99ca82bd6bf7"
      },
      "source": [
        "# You realize that you need to add 'black panther' after 'hulk', so remove it from the list first and then add it after 'hulk'\n",
        "heros.remove(\"black panther\")\n",
        "heros.insert(3, \"black panther\")\n",
        "print(heros)"
      ],
      "execution_count": 14,
      "outputs": [
        {
          "output_type": "stream",
          "name": "stdout",
          "text": [
            "['spider man', 'thor', 'hulk', 'black panther', 'iron man', 'captain america']\n"
          ]
        }
      ]
    },
    {
      "cell_type": "code",
      "metadata": {
        "colab": {
          "base_uri": "https://localhost:8080/"
        },
        "id": "rNRC2C_X4w9T",
        "outputId": "70399202-a125-4bc9-bb8e-c781c2763b02"
      },
      "source": [
        "# Now you don't like thor and hulk because they get angry easily :) So you want to remove thor and hulk from list and replace them with doctor strange (because he is cool). Do that with one line of code.\n",
        "heros[1:3] = [\"doctor strange\"]\n",
        "print(heros)"
      ],
      "execution_count": 16,
      "outputs": [
        {
          "output_type": "stream",
          "name": "stdout",
          "text": [
            "['spider man', 'doctor strange', 'iron man', 'captain america']\n"
          ]
        }
      ]
    },
    {
      "cell_type": "code",
      "metadata": {
        "colab": {
          "base_uri": "https://localhost:8080/"
        },
        "id": "SJ1FUGg65BIo",
        "outputId": "25ac3c49-6a12-4e23-d056-d9267f6d07fa"
      },
      "source": [
        "# Sort the heros list in alphabetical order (Hint. Use dir() functions to list down all functions available in list)\n",
        "heros.sort()\n",
        "print(heros)"
      ],
      "execution_count": 17,
      "outputs": [
        {
          "output_type": "stream",
          "name": "stdout",
          "text": [
            "['captain america', 'doctor strange', 'iron man', 'spider man']\n"
          ]
        }
      ]
    },
    {
      "cell_type": "markdown",
      "metadata": {
        "id": "Hlvxsyp_5dKc"
      },
      "source": [
        "Q3. Create a list of all odd numbers between 1 and a max number. Max number is something you need to take from a user using input() function"
      ]
    },
    {
      "cell_type": "code",
      "metadata": {
        "colab": {
          "base_uri": "https://localhost:8080/"
        },
        "id": "AiZ62yJu5eHw",
        "outputId": "0fca97e1-1611-489c-b68f-a4dd564ef7ad"
      },
      "source": [
        "max = int(input(\"Enter maximum number: \"))\n",
        "\n",
        "odd_numbers = []\n",
        "\n",
        "for i in range(1,max):\n",
        "  if i%2 == 1:\n",
        "    odd_numbers.append(i)\n",
        "\n",
        "print(\"Odd Numbers: \",odd_numbers)"
      ],
      "execution_count": 18,
      "outputs": [
        {
          "output_type": "stream",
          "name": "stdout",
          "text": [
            "Enter maximum number: 50\n",
            "Odd Numbers:  [1, 3, 5, 7, 9, 11, 13, 15, 17, 19, 21, 23, 25, 27, 29, 31, 33, 35, 37, 39, 41, 43, 45, 47, 49]\n"
          ]
        }
      ]
    }
  ]
}